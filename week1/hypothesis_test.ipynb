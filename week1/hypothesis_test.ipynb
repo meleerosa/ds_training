{
 "cells": [
  {
   "cell_type": "code",
   "execution_count": 64,
   "metadata": {},
   "outputs": [],
   "source": [
    "import pandas as pd\n",
    "from math import *"
   ]
  },
  {
   "cell_type": "code",
   "execution_count": 65,
   "metadata": {},
   "outputs": [],
   "source": [
    "df = pd.read_csv('국민건강보험공단_건강검진정보_20211229.CSV', encoding= 'cp949')"
   ]
  },
  {
   "cell_type": "code",
   "execution_count": 66,
   "metadata": {},
   "outputs": [],
   "source": [
    "표본 = df['(혈청지오티)ALT'].dropna().reset_index(drop = True)"
   ]
  },
  {
   "cell_type": "code",
   "execution_count": 67,
   "metadata": {},
   "outputs": [
    {
     "data": {
      "text/plain": [
       "count    992398.000000\n",
       "mean         26.759641\n",
       "std          25.835091\n",
       "min           1.000000\n",
       "25%          16.000000\n",
       "50%          21.000000\n",
       "75%          31.000000\n",
       "max        5990.000000\n",
       "Name: (혈청지오티)ALT, dtype: float64"
      ]
     },
     "execution_count": 67,
     "metadata": {},
     "output_type": "execute_result"
    }
   ],
   "source": [
    "표본.describe()"
   ]
  },
  {
   "cell_type": "code",
   "execution_count": 68,
   "metadata": {},
   "outputs": [
    {
     "data": {
      "text/plain": [
       "-47.82337469133717"
      ]
     },
     "execution_count": 68,
     "metadata": {},
     "output_type": "execute_result"
    }
   ],
   "source": [
    "(26.76-28)/(25.83/sqrt(992398))"
   ]
  },
  {
   "cell_type": "code",
   "execution_count": 69,
   "metadata": {},
   "outputs": [],
   "source": [
    "남자표본 = df[df['성별코드'] == 1]['(혈청지오티)ALT'].dropna().reset_index(drop = True)\n",
    "여자표본 = df[df['성별코드'] == 2]['(혈청지오티)ALT'].dropna().reset_index(drop = True)"
   ]
  },
  {
   "cell_type": "code",
   "execution_count": 70,
   "metadata": {},
   "outputs": [
    {
     "data": {
      "text/plain": [
       "count    507949.000000\n",
       "mean         31.001443\n",
       "std          26.144305\n",
       "min           1.000000\n",
       "25%          18.000000\n",
       "50%          25.000000\n",
       "75%          36.000000\n",
       "max        3461.000000\n",
       "Name: (혈청지오티)ALT, dtype: float64"
      ]
     },
     "execution_count": 70,
     "metadata": {},
     "output_type": "execute_result"
    }
   ],
   "source": [
    "남자표본.describe()"
   ]
  },
  {
   "cell_type": "code",
   "execution_count": 71,
   "metadata": {},
   "outputs": [
    {
     "data": {
      "text/plain": [
       "count    484449.000000\n",
       "mean         22.312075\n",
       "std          24.737710\n",
       "min           1.000000\n",
       "25%          14.000000\n",
       "50%          18.000000\n",
       "75%          25.000000\n",
       "max        5990.000000\n",
       "Name: (혈청지오티)ALT, dtype: float64"
      ]
     },
     "execution_count": 71,
     "metadata": {},
     "output_type": "execute_result"
    }
   ],
   "source": [
    "여자표본.describe()"
   ]
  },
  {
   "cell_type": "code",
   "execution_count": 72,
   "metadata": {},
   "outputs": [
    {
     "data": {
      "text/plain": [
       "170.14234625325724"
      ]
     },
     "execution_count": 72,
     "metadata": {},
     "output_type": "execute_result"
    }
   ],
   "source": [
    "(31.00 - 22.31)/sqrt((pow(26.14,2)/507949)+(pow(24.74,2)/484449))"
   ]
  },
  {
   "cell_type": "code",
   "execution_count": 73,
   "metadata": {},
   "outputs": [],
   "source": [
    "요단백정상 = df[df['요단백'] == 1]['(혈청지오티)ALT'].dropna().reset_index(drop = True)"
   ]
  },
  {
   "cell_type": "code",
   "execution_count": 74,
   "metadata": {},
   "outputs": [],
   "source": [
    "요단백이상 = df[df['요단백'] != 1]['(혈청지오티)ALT'].dropna().reset_index(drop = True)"
   ]
  },
  {
   "cell_type": "code",
   "execution_count": 75,
   "metadata": {},
   "outputs": [
    {
     "data": {
      "text/plain": [
       "count    914798.000000\n",
       "mean         26.458896\n",
       "std          23.190419\n",
       "min           1.000000\n",
       "25%          16.000000\n",
       "50%          21.000000\n",
       "75%          30.000000\n",
       "max        4236.000000\n",
       "Name: (혈청지오티)ALT, dtype: float64"
      ]
     },
     "execution_count": 75,
     "metadata": {},
     "output_type": "execute_result"
    }
   ],
   "source": [
    "요단백정상.describe()"
   ]
  },
  {
   "cell_type": "code",
   "execution_count": 76,
   "metadata": {},
   "outputs": [
    {
     "data": {
      "text/plain": [
       "count    77600.000000\n",
       "mean        30.305013\n",
       "std         46.715251\n",
       "min          1.000000\n",
       "25%         16.000000\n",
       "50%         23.000000\n",
       "75%         35.000000\n",
       "max       5990.000000\n",
       "Name: (혈청지오티)ALT, dtype: float64"
      ]
     },
     "execution_count": 76,
     "metadata": {},
     "output_type": "execute_result"
    }
   ],
   "source": [
    "요단백이상.describe()"
   ]
  },
  {
   "cell_type": "code",
   "execution_count": 77,
   "metadata": {},
   "outputs": [
    {
     "data": {
      "text/plain": [
       "-22.719422965247727"
      ]
     },
     "execution_count": 77,
     "metadata": {},
     "output_type": "execute_result"
    }
   ],
   "source": [
    "(26.46 - 30.31)/sqrt((pow(23.19,2)/914798)+(pow(46.72,2)/77600))"
   ]
  }
 ],
 "metadata": {
  "kernelspec": {
   "display_name": "jm",
   "language": "python",
   "name": "python3"
  },
  "language_info": {
   "codemirror_mode": {
    "name": "ipython",
    "version": 3
   },
   "file_extension": ".py",
   "mimetype": "text/x-python",
   "name": "python",
   "nbconvert_exporter": "python",
   "pygments_lexer": "ipython3",
   "version": "3.8.10"
  },
  "orig_nbformat": 4,
  "vscode": {
   "interpreter": {
    "hash": "bfb56038f6b25cfcede61526d5359016c829d789b15ff023392666a31abe0212"
   }
  }
 },
 "nbformat": 4,
 "nbformat_minor": 2
}
